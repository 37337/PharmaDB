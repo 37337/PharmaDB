{
 "cells": [
  {
   "cell_type": "code",
   "execution_count": 28,
   "metadata": {},
   "outputs": [],
   "source": [
    "import pandas as pd\n",
    "import psycopg2\n",
    "from psycopg2 import sql\n",
    "from psycopg2.extensions import ISOLATION_LEVEL_AUTOCOMMIT"
   ]
  },
  {
   "cell_type": "code",
   "execution_count": 29,
   "metadata": {},
   "outputs": [],
   "source": [
    "conn.set_isolation_level(ISOLATION_LEVEL_AUTOCOMMIT)"
   ]
  },
  {
   "cell_type": "code",
   "execution_count": 30,
   "metadata": {},
   "outputs": [],
   "source": [
    "# Connect to an existing database\n",
    "conn = psycopg2.connect(\n",
    "    dbname='PharmaTest',\n",
    "    user='postgres',\n",
    "    host='localhost',\n",
    "    password='qwerty')\n",
    "cur = conn.cursor()"
   ]
  },
  {
   "cell_type": "code",
   "execution_count": 31,
   "metadata": {},
   "outputs": [
    {
     "ename": "DuplicateTable",
     "evalue": "relation \"drugs\" already exists\n",
     "output_type": "error",
     "traceback": [
      "\u001b[0;31m---------------------------------------------------------------------------\u001b[0m",
      "\u001b[0;31mDuplicateTable\u001b[0m                            Traceback (most recent call last)",
      "\u001b[0;32m<ipython-input-31-14b32d7fb938>\u001b[0m in \u001b[0;36m<module>\u001b[0;34m\u001b[0m\n\u001b[0;32m----> 1\u001b[0;31m cur.execute(\"\"\"\n\u001b[0m\u001b[1;32m      2\u001b[0m     \u001b[0mCREATE\u001b[0m \u001b[0mTABLE\u001b[0m \u001b[0mdrugs\u001b[0m\u001b[0;34m\u001b[0m\u001b[0;34m\u001b[0m\u001b[0m\n\u001b[1;32m      3\u001b[0m     (\n\u001b[1;32m      4\u001b[0m     \u001b[0mPharmGKB_Accession_Id\u001b[0m \u001b[0mvarchar\u001b[0m\u001b[0;34m(\u001b[0m\u001b[0;36m128\u001b[0m\u001b[0;34m)\u001b[0m \u001b[0mNOT\u001b[0m \u001b[0mNULL\u001b[0m \u001b[0mPRIMARY\u001b[0m \u001b[0mKEY\u001b[0m\u001b[0;34m,\u001b[0m\u001b[0;34m\u001b[0m\u001b[0;34m\u001b[0m\u001b[0m\n\u001b[1;32m      5\u001b[0m     \u001b[0mdr_Name\u001b[0m \u001b[0mtext\u001b[0m \u001b[0mNOT\u001b[0m \u001b[0mNULL\u001b[0m\u001b[0;34m,\u001b[0m\u001b[0;34m\u001b[0m\u001b[0;34m\u001b[0m\u001b[0m\n",
      "\u001b[0;31mDuplicateTable\u001b[0m: relation \"drugs\" already exists\n"
     ]
    }
   ],
   "source": [
    "cur.execute(\"\"\"\n",
    "    CREATE TABLE drugs\n",
    "    (\n",
    "    PharmGKB_Accession_Id varchar(128) NOT NULL PRIMARY KEY,\n",
    "    dr_Name text NOT NULL,\n",
    "    Generic_Names text,\n",
    "    Trade_Names text,\n",
    "    Brand_Mixtures text,\n",
    "    dr_Type text,\n",
    "    Cross_references text,\n",
    "    SMILES text,\n",
    "    InChI text,\n",
    "    Dosing_Guideline text,\n",
    "    External_Vocabulary text,\n",
    "    Clinical_Annotation_Count integer,\n",
    "    Variant_Annotation_Count integer,\n",
    "    Pathway_Count integer,\n",
    "    VIP_Count integer,\n",
    "    Dosing_Guideline_Sources text,\n",
    "    Top_Clinical_Annotation_Level text,\n",
    "    Top_FDA_Label_Testing_Level text,\n",
    "    Top_Any_Drug_Label_Testing_Level text,\n",
    "    Label_Has_Dosing_Info text,\n",
    "    Has_Rx_Annotation text,\n",
    "    RxNorm_Identifiers text,\n",
    "    ATC_Identifiers text,\n",
    "    PubChem_Compound_Identifiers text\n",
    "    )\n",
    "\"\"\")"
   ]
  },
  {
   "cell_type": "code",
   "execution_count": 32,
   "metadata": {},
   "outputs": [],
   "source": [
    "conn.commit()"
   ]
  },
  {
   "cell_type": "code",
   "execution_count": 33,
   "metadata": {},
   "outputs": [],
   "source": [
    "cur.close()\n",
    "conn.close()"
   ]
  },
  {
   "cell_type": "code",
   "execution_count": null,
   "metadata": {},
   "outputs": [],
   "source": []
  }
 ],
 "metadata": {
  "kernelspec": {
   "display_name": "Python 3",
   "language": "python",
   "name": "python3"
  },
  "language_info": {
   "codemirror_mode": {
    "name": "ipython",
    "version": 3
   },
   "file_extension": ".py",
   "mimetype": "text/x-python",
   "name": "python",
   "nbconvert_exporter": "python",
   "pygments_lexer": "ipython3",
   "version": "3.8.5"
  }
 },
 "nbformat": 4,
 "nbformat_minor": 4
}
